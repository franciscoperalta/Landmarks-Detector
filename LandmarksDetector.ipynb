{
 "cells": [
  {
   "cell_type": "markdown",
   "id": "8a357a5e-e7c7-4d7f-b029-54bbaae01f88",
   "metadata": {},
   "source": [
    "# Librerías a instalar"
   ]
  },
  {
   "cell_type": "code",
   "execution_count": 1,
   "id": "950d654a-1239-4485-93d3-9e568d8f7d28",
   "metadata": {
    "tags": []
   },
   "outputs": [],
   "source": [
    "#!pip install -r requirements.txt"
   ]
  },
  {
   "cell_type": "markdown",
   "id": "b523df1b-460a-426c-95e6-70570231f16b",
   "metadata": {},
   "source": [
    "# Librerías a importar"
   ]
  },
  {
   "cell_type": "code",
   "execution_count": 2,
   "id": "b7d65c29-e8ad-4ecd-8ebe-4c7527c301fa",
   "metadata": {
    "tags": []
   },
   "outputs": [],
   "source": [
    "import cv2\n",
    "import mediapipe as mp\n",
    "import pandas as pd\n",
    "import numpy as np\n",
    "import tkinter as tk\n",
    "from tkinter import filedialog as fd\n",
    "from py_tps import TPSFile, TPSImage, TPSPoints\n",
    "from PIL import Image, ImageEnhance, ImageStat\n",
    "from tqdm import tqdm\n",
    "\n",
    "import random\n",
    "import os\n",
    "import csv\n",
    "import math"
   ]
  },
  {
   "cell_type": "markdown",
   "id": "2d468db5-ce65-4b83-8d50-07ac98ca4337",
   "metadata": {
    "tags": []
   },
   "source": [
    "# Funciones"
   ]
  },
  {
   "cell_type": "markdown",
   "id": "ee0b1b22-d109-473c-8bd3-3fdc42c7d589",
   "metadata": {},
   "source": [
    "## Comprobación de carpetas"
   ]
  },
  {
   "cell_type": "code",
   "execution_count": 3,
   "id": "fff236c4-8b34-41b1-8a5d-951af86ac9ac",
   "metadata": {
    "tags": []
   },
   "outputs": [],
   "source": [
    "def check_folders():\n",
    "    ori = 'Original/'\n",
    "    pre = 'PreOutput/'\n",
    "    col = 'ColorOutput/'\n",
    "    tps = 'TPS/'\n",
    "    gro = 'GroundTruth'\n",
    "    fin = 'FinalOutput/'\n",
    "\n",
    "    if os.path.exists(ori) is False:\n",
    "        os.mkdir(ori)\n",
    "    if os.path.exists(pre) is False:\n",
    "        os.mkdir(pre)\n",
    "    if os.path.exists(col) is False:\n",
    "        os.mkdir(col)\n",
    "    if os.path.exists(tps) is False:\n",
    "        os.mkdir(tps)\n",
    "    if os.path.exists(gro) is False:\n",
    "        os.mkdir(gro)\n",
    "    if os.path.exists(fin) is False:\n",
    "        os.mkdir(fin)"
   ]
  },
  {
   "cell_type": "markdown",
   "id": "5df468db-7016-4358-88d2-a5b87849c4cb",
   "metadata": {},
   "source": [
    "## Seleccionar imagen"
   ]
  },
  {
   "cell_type": "code",
   "execution_count": 4,
   "id": "20e416a3-3d2f-4608-b6d5-84ccc69efb24",
   "metadata": {
    "tags": []
   },
   "outputs": [],
   "source": [
    "def select_image():\n",
    "    root = tk.Tk()\n",
    "    root.withdraw()\n",
    "    file_path = fd.askopenfilename(filetypes=(('Imágenes','*.png'),\n",
    "                                              ('Imágenes','*.jpg'),\n",
    "                                              ('Imágenes','*.jpeg')))\n",
    "    return file_path"
   ]
  },
  {
   "cell_type": "markdown",
   "id": "2d82ba65-292a-4d34-8246-f4bd5f40d1ca",
   "metadata": {},
   "source": [
    "## Seleccionar carpeta"
   ]
  },
  {
   "cell_type": "code",
   "execution_count": 5,
   "id": "84341cc0-3141-4230-9b5b-7e637a1a8aef",
   "metadata": {
    "tags": []
   },
   "outputs": [],
   "source": [
    "def select_folder():\n",
    "    root = tk.Tk()\n",
    "    root.withdraw()\n",
    "    path = fd.askdirectory()\n",
    "    return path"
   ]
  },
  {
   "cell_type": "markdown",
   "id": "93b213af-f6be-40e1-9523-39555bc1e614",
   "metadata": {},
   "source": [
    "## Brillo, dimensiones y grupo"
   ]
  },
  {
   "cell_type": "code",
   "execution_count": 6,
   "id": "6bc8f7a6-211f-4f9a-a132-7e7afe8fe828",
   "metadata": {
    "tags": []
   },
   "outputs": [],
   "source": [
    "def get_brightness(image_path):\n",
    "    image = Image.open(image_path).convert('L')\n",
    "    stat = ImageStat.Stat(image)\n",
    "    return stat.rms[0]"
   ]
  },
  {
   "cell_type": "code",
   "execution_count": 7,
   "id": "34ee7fb0-21e1-4434-88b0-28388941fcb7",
   "metadata": {
    "tags": []
   },
   "outputs": [],
   "source": [
    "def get_dimensions(image_path):\n",
    "    image = Image.open(image_path).convert('L')\n",
    "    width = image.width\n",
    "    height = image.height\n",
    "    return width, height"
   ]
  },
  {
   "cell_type": "code",
   "execution_count": 8,
   "id": "c98806f7-4b91-434b-9eed-958556f2ba57",
   "metadata": {
    "tags": []
   },
   "outputs": [],
   "source": [
    "def get_group(image_path):\n",
    "    image = Image.open(image_path).convert('L')\n",
    "    width = image.width\n",
    "    height = image.height\n",
    "    if width >= 560 and width <= 1286 and height >= 1011 and height <= 1454:\n",
    "        return 0\n",
    "    elif width >= 965 and width <= 1533 and height >= 1398 and height <= 1701:\n",
    "        return 1\n",
    "    elif width >= 1186 and width <= 1950 and height >= 1635 and height <= 2460:\n",
    "        return 2\n",
    "    else:\n",
    "        return 3"
   ]
  },
  {
   "cell_type": "markdown",
   "id": "a4877caf-bb92-4d5a-bbaa-6619f0c33466",
   "metadata": {},
   "source": [
    "## Pre procesamiento de las imágenes"
   ]
  },
  {
   "cell_type": "code",
   "execution_count": 9,
   "id": "964a2b5b-3e38-4984-afd3-24fd8124ed47",
   "metadata": {
    "tags": []
   },
   "outputs": [],
   "source": [
    "def pre_processing(file_path):\n",
    "\n",
    "    file_name = os.path.basename(file_path)\n",
    "    file_name = os.path.splitext(file_name)\n",
    "    \n",
    "    image = Image.open(file_path)\n",
    "    image.save('Original/' + file_name[0] + file_name[1])\n",
    "    \n",
    "    #brightness = get_brightness(file_path)\n",
    "    brightness = ImageStat.Stat(image).rms[0]\n",
    "    if brightness > 0 and brightness < 25:\n",
    "        brightness_factor = random.randint(8,10)\n",
    "    elif brightness >= 25 and brightness < 39:\n",
    "        brightness_factor = random.randint(3,10)\n",
    "    elif brightness >= 39 and brightness < 54:\n",
    "        brightness_factor = random.randint(2,7)\n",
    "    elif brightness >= 54 and brightness < 72:\n",
    "        brightness_factor = random.randint(2,6)\n",
    "    elif brightness >= 72 and brightness < 120:\n",
    "        brightness_factor = random.randint(2,5)\n",
    "    else:\n",
    "        brightness_factor = random.randint(2,10)\n",
    "\n",
    "    enhancer = ImageEnhance.Brightness(image)\n",
    "    image_output = enhancer.enhance(brightness_factor)\n",
    "\n",
    "    cenhancer = ImageEnhance.Contrast(image_output)\n",
    "    contrast_factor = random.randint(1,4)\n",
    "    image_output = cenhancer.enhance(contrast_factor)\n",
    "\n",
    "    output_name = file_name[0] + 'P' + file_name[1]\n",
    "    image_output.save('PreOutput/' + output_name)\n",
    "\n",
    "    color_image = cv2.imread('PreOutput/' + output_name,cv2.IMREAD_COLOR)\n",
    "    color_image = cv2.applyColorMap(color_image, cv2.COLORMAP_MAGMA)\n",
    "    #HOT AUTUMN SPRING MAGMA\n",
    "\n",
    "    color_output_name = file_name[0] + 'C' + file_name[1]\n",
    "    cv2.imwrite('ColorOutput/' + color_output_name, color_image)"
   ]
  },
  {
   "cell_type": "code",
   "execution_count": 60,
   "id": "e1787d2a-1ada-45a2-8fda-98cb009f8e37",
   "metadata": {
    "tags": []
   },
   "outputs": [],
   "source": [
    "def pre_random_processing(file_path):\n",
    "\n",
    "    file_name = os.path.basename(file_path)\n",
    "    file_name = os.path.splitext(file_name)\n",
    "    \n",
    "    image = Image.open(file_path)\n",
    "    image.save('Original/' + file_name[0] + file_name[1])\n",
    "    \n",
    "    #brightness = get_brightness(file_path)\n",
    "    brightness = ImageStat.Stat(image).rms[0]\n",
    "    brightness_factor = random.randint(2,5)\n",
    "\n",
    "    enhancer = ImageEnhance.Brightness(image)\n",
    "    image_output = enhancer.enhance(brightness_factor)\n",
    "\n",
    "    cenhancer = ImageEnhance.Contrast(image_output)\n",
    "    contrast_factor = random.randint(1,5)\n",
    "    image_output = cenhancer.enhance(contrast_factor)\n",
    "\n",
    "    output_name = file_name[0] + 'P' + file_name[1]\n",
    "    image_output.save('PreOutput/' + output_name)\n",
    "\n",
    "    color_image = cv2.imread('PreOutput/' + output_name,cv2.IMREAD_COLOR)\n",
    "    color_image = cv2.applyColorMap(color_image, cv2.COLORMAP_MAGMA)\n",
    "    #HOT AUTUMN SPRING MAGMA\n",
    "\n",
    "    color_output_name = file_name[0] + 'C' + file_name[1]\n",
    "    cv2.imwrite('ColorOutput/' + color_output_name, color_image)"
   ]
  },
  {
   "cell_type": "code",
   "execution_count": 10,
   "id": "070f03e2-4458-4cc7-a551-5115e7e0f21d",
   "metadata": {
    "tags": []
   },
   "outputs": [],
   "source": [
    "def manual_pre_processing(file_path, brightness_factor, contrast_factor):\n",
    "\n",
    "    file_name = os.path.basename(file_path)\n",
    "    file_name = os.path.splitext(file_name)\n",
    "    \n",
    "    image = Image.open(file_path)\n",
    "    image.save('Original/' + file_name[0] + file_name[1])\n",
    "\n",
    "    enhancer = ImageEnhance.Brightness(image)\n",
    "    image_output = enhancer.enhance(brightness_factor)\n",
    "\n",
    "    cenhancer = ImageEnhance.Contrast(image_output)\n",
    "    image_output = cenhancer.enhance(contrast_factor)\n",
    "\n",
    "    output_name = file_name[0] + 'P' + file_name[1]\n",
    "    image_output.save('PreOutput/' + output_name)\n",
    "\n",
    "    color_image = cv2.imread('PreOutput/' + output_name,cv2.IMREAD_COLOR)\n",
    "    color_image = cv2.applyColorMap(color_image, cv2.COLORMAP_MAGMA)\n",
    "    #HOT AUTUMN SPRING MAGMA\n",
    "\n",
    "    color_output_name = file_name[0] + 'C' + file_name[1]\n",
    "    cv2.imwrite('ColorOutput/' + color_output_name, color_image)"
   ]
  },
  {
   "cell_type": "markdown",
   "id": "c8dc5b5e-2ec1-4e7e-a809-d51941bb8312",
   "metadata": {},
   "source": [
    "## Recorrer archivos"
   ]
  },
  {
   "cell_type": "code",
   "execution_count": 11,
   "id": "4df30317-ee57-437e-ba0e-c1b5eb65bb5d",
   "metadata": {
    "tags": []
   },
   "outputs": [],
   "source": [
    "def browse_files(path):\n",
    "    files = os.listdir(path)\n",
    "    #for archivo in archivos:\n",
    "    for file in tqdm(files, desc=\"Progreso\"):\n",
    "        if (\n",
    "            file.endswith(\".png\")\n",
    "            or file.endswith(\".jpg\")\n",
    "            or file.endswith(\".jpeg\")\n",
    "        ):\n",
    "            landmarks_detector(path + \"/\" + file)"
   ]
  },
  {
   "cell_type": "markdown",
   "id": "480cc097-6f59-42ab-a6b5-3f7ea9ce8b85",
   "metadata": {},
   "source": [
    "## Ajustar puntos"
   ]
  },
  {
   "cell_type": "code",
   "execution_count": 12,
   "id": "568b7fb8-919b-4fd2-a005-e446b6c18dc0",
   "metadata": {
    "jupyter": {
     "source_hidden": true
    },
    "tags": []
   },
   "outputs": [],
   "source": [
    "def fit_landmarks_old(lista, group):\n",
    "    if group == 0:\n",
    "        lista[1] = round(5.106151 + (1.012870 * lista[1]))\n",
    "        lista[2] = round(7.72715 + (1.00686 * lista[2]))\n",
    "        lista[3] = round(10.789601 + (1.009205 * lista[3]))\n",
    "        lista[4] = round(9.3004 +(1.0006 * lista[4]))\n",
    "        lista[9] = round(-0.235306 + (0.998316 * lista[9]))\n",
    "        lista[10] = round(-4.869106 + (1.021501 * lista[10]))\n",
    "        lista[11] = round(-7.204788 + (1.009601 * lista[11]))\n",
    "        lista[12] = round(10.39307 + (1.01130 * lista[12]))\n",
    "        lista[13] = round(9.06720 + (0.98785 * lista[13]))\n",
    "        lista[14] = round(2.2351 + (1.0256 * lista[14]))\n",
    "        lista[14] = round(-1.76335 + (1.00453 * lista[14]))\n",
    "        lista[19] = round(-14.66464 + (1.02595 * lista[19]))\n",
    "        lista[20] = round(4.07344 + (1.01691 * lista[20]))\n",
    "        lista[21] = round(-7.27641 + (1.01007 * lista[21]))\n",
    "        lista[22] = round(9.18259 + (1.01790 * lista[22]))\n",
    "        lista[22] = round(-43.3881 + (1.0429 * lista[22]))\n",
    "        lista[23] = round(16.85348 + (0.95979 * lista[23]))\n",
    "        lista[24] = round(-22.03858 + (1.05206 * lista[24]))\n",
    "        lista[29] = round(-11.98862 + (1.02672 * lista[29]))\n",
    "        lista[30] = round(5.3611 + (1.0145 * lista[30]))\n",
    "        lista[31] = round(-6.53737 + (1.00182 * lista[31]))\n",
    "        lista[32] = round(8.18818 + (1.01267 * lista[32]))\n",
    "        lista[33] = round(22.48798 + (0.92873 * lista[33]))\n",
    "        lista[34] = round(32.87670 + (0.98157 * lista[34]))\n",
    "        lista[34] = round(-0.23360 + (1.00043 * lista[34]))\n",
    "        lista[39] = round(-10.1762 + (1.0079 * lista[39]))\n",
    "        lista[40] = round(11.743553 + (1.002825 * lista[40]))\n",
    "        lista[41] = round(-14.43487 + (1.02896 * lista[41]))\n",
    "        lista[42] = round(10.66727 + (1.00441 * lista[42]))\n",
    "        lista[43] = round(-30.1293 + (1.0654 * lista[43]))\n",
    "        lista[44] = round(1.64544 + (1.02445 * lista[44]))\n",
    "        lista[44] = round(1.39553 + (1.00176 * lista[44]))\n",
    "    if group == 1:\n",
    "        lista[1] = math.trunc(3.30588 + (1.01336 * lista[1]))\n",
    "        lista[2] = math.trunc(3.57418 + (1.01018 * lista[2]))\n",
    "        lista[3] = math.trunc(-1.82793 + (1.02478 * lista[3]))\n",
    "        lista[4] = math.trunc(9.99117 + (1.00273 * lista[4]))\n",
    "        lista[9] = math.trunc(-15.64847 + (1.01073 * lista[9]))\n",
    "        lista[10] = math.trunc(33.68455 + (0.99284 * lista[10]))\n",
    "        lista[11] = math.trunc(-10.97392 + (1.00730 * lista[11]))\n",
    "        lista[12] = math.trunc(25.77068 + (1.00174 * lista[12]))\n",
    "        lista[13] = math.trunc(-7.80290 + (1.00634 * lista[13]))\n",
    "        lista[14] = math.trunc(40.17557 + (0.99618 * lista[14]))\n",
    "        lista[19] = math.trunc(-1.20191 + (0.99126 * lista[19]))\n",
    "        lista[20] = math.trunc(9.14772 + (1.01379 * lista[20]))\n",
    "        lista[21] = math.trunc(7.13946 + (0.97326 * lista[21]))\n",
    "        lista[22] = math.trunc(-10.41647 + (1.03552 * lista[22]))\n",
    "        lista[23] = math.trunc(-6.66252 + (0.99869 * lista[23]))\n",
    "        lista[24] = math.trunc(75.99016 + (0.95595 * lista[24]))\n",
    "        lista[29] = math.trunc(0.70778 + (0.98069 * lista[29]))\n",
    "        lista[30] = math.trunc(66.63456 + (0.97116 * lista[30]))\n",
    "        lista[31] = math.trunc(-27.65953 + (1.05134 * lista[31]))\n",
    "        lista[32] = math.trunc(-12.36347 + (1.03254 * lista[32]))\n",
    "        lista[33] = math.trunc(-2.18791 + (0.99458 * lista[33]))\n",
    "        lista[34] = math.trunc(84.23158 + (0.93859 * lista[34]))\n",
    "        lista[39] = math.trunc(-4.54128 + (0.97621 * lista[39]))\n",
    "        lista[40] = math.trunc(7.56122 + (1.00985 * lista[40]))\n",
    "        lista[41] = math.trunc(-26.88801 + (1.06388 * lista[41]))\n",
    "        lista[42] = math.trunc(42.47644 + (0.97588 * lista[42]))\n",
    "        lista[43] = math.trunc(-10.07636 + (0.96853 * lista[43]))\n",
    "        lista[44] = math.trunc(13.98637 + (1.01067 * lista[44]))\n",
    "    return lista"
   ]
  },
  {
   "cell_type": "code",
   "execution_count": 13,
   "id": "324b1721-1cb4-4218-ad88-034a5aa9d2bf",
   "metadata": {
    "jupyter": {
     "source_hidden": true
    },
    "tags": []
   },
   "outputs": [],
   "source": [
    "def fit_landmarks_none(lista, group):\n",
    "    if group == 0:\n",
    "        lista[1] = math.trunc(-0.650297 + (1.019520 * lista[1]) - 5)\n",
    "        lista[2] = math.trunc(-12.16251 + (1.03196 * lista[2]) - 4)\n",
    "        lista[3] = round(13.98933 + (1.00720 * lista[3]) + 5)\n",
    "        lista[4] = math.trunc(-12.32562 + (1.03158 * lista[4]) - 5)\n",
    "        lista[9] = math.trunc(-36.14460 + (1.05004 * lista[9]) - 5)\n",
    "        lista[10] = math.trunc(-4.048638 + (1.022433 * lista[10]) - 3)\n",
    "        lista[11] = round(-18.240561 + (1.025446 * lista[11]) - 1)\n",
    "        lista[12] = round(18.08026 + (1.00668 * lista[12]) + 5)\n",
    "        lista[13] = math.trunc(-15.29636 + (1.02478 * lista[13]) - 2)\n",
    "        lista[14] = math.trunc(23.11117 + (1.00503 * lista[14]) + 5)\n",
    "        lista[19] = math.trunc(-3.64131 + (1.00007 * lista[19]) - 2)\n",
    "        lista[20] = math.trunc(4.683624 + (1.016374 * lista[20]) + 5)\n",
    "        lista[21] = math.trunc(15.18390 + (0.96488 * lista[21]) + 5)\n",
    "        lista[22] = round(38.98645 + (0.99596 * lista[22]) + 5)\n",
    "        lista[23] = math.trunc(3.71277 + (0.98728 * lista[23]) + 3)\n",
    "        lista[24] = round(5.95937 + (1.02191 * lista[24]) + 5)\n",
    "        lista[29] = math.trunc(-10.9714 + (1.0244 * lista[29]) - 2)\n",
    "        lista[30] = math.trunc(10.216698 + (1.010153 * lista[30]) + 2.5)\n",
    "        lista[31] = math.trunc(-12.82086 + (1.02450 * lista[31]) - 3)\n",
    "        lista[32] = round(33.49360 + (0.98994 * lista[32]) + 5)\n",
    "        lista[33] = math.trunc(-6.67640 + (1.00677 * lista[33]) - 2)\n",
    "        lista[34] = round(9.78413 + (1.00881 * lista[34]) + 5)\n",
    "        lista[39] = math.trunc(-8.7454 + (0.9993 * lista[39]) - 3)\n",
    "        lista[40] = math.trunc(-14.09835 + (1.03086 * lista[40]) - 4)\n",
    "        lista[41] = round(-9.29355 + (1.00865 * lista[41]) - 3)\n",
    "        lista[42] = round(-4.9911 + (1.0241 * lista[42]) - 5)\n",
    "        lista[43] = round(-8.46887 + (0.97513 * lista[43]) - 5)\n",
    "        lista[44] = math.trunc(-17.7602 + (1.0494 * lista[44]) - 5)\n",
    "\n",
    "    return lista"
   ]
  },
  {
   "cell_type": "code",
   "execution_count": 14,
   "id": "1a5b1aea-6ba0-46b8-988f-3eb5f2321a4f",
   "metadata": {},
   "outputs": [],
   "source": [
    "def fit_landmarks(lista, group):\n",
    "    if group == 0:\n",
    "        lista[1] = round(5.821279 + (1.009297 * lista[1]))\n",
    "        lista[2] = round(9.793988 + (0.999010 * lista[2]) + 3)\n",
    "        lista[3] = round(1.564947 + (1.016853 * lista[3]))\n",
    "        lista[4] = round(-15.8019 + (1.0334 * lista[4]) - 5)\n",
    "        lista[9] = round(-15.879276 + (1.019681 * lista[9]))\n",
    "        lista[10] = round(6.496213 + (1.011126 * lista[10]) + 2.5)\n",
    "        lista[11] = round(-10.028794 + (1.014533 * lista[11]))\n",
    "        lista[12] = round(5.55470 + (1.01721 * lista[12]) + 5)\n",
    "        lista[13] = round(-0.575607 + (1.002496 * lista[13]))\n",
    "        lista[14] = round(-6.169507 + (1.032557 * lista[14]) - 5)\n",
    "        lista[19] = round(-8.989855 + (1.013064 * lista[19]))\n",
    "        lista[20] = round(7.72577 + (1.01081 * lista[20]) + 5)\n",
    "        lista[21] = round(-5.80727 + (1.00449 * lista[21]))\n",
    "        lista[22] = round(1.90406 + (1.02663 * lista[22]) + 5)\n",
    "        lista[23] = round(-4.99641 + (1.00262 * lista[23]))\n",
    "        lista[24] = round(-6.13557 + (1.03023 * lista[24]) - 5)\n",
    "        lista[29] = round(-2.60331 + (1.00217 * lista[29]))\n",
    "        lista[30] = round(-6.892532 + (1.025369 * lista[30]) - 5)\n",
    "        lista[31] = round(-8.72348 + (1.01319 * lista[31]))\n",
    "        lista[32] = round(1.33042 + (1.01806 * lista[32]) + 7.5)\n",
    "        lista[33] = round(-2.53319 + (0.99910 * lista[33]))\n",
    "        lista[34] = round(12.42170 + (1.00411 * lista[34]) + 5)\n",
    "        lista[39] = round(-9.49488 + (1.01906 * lista[39]))\n",
    "        lista[40] = round(1.91549 + (1.01331 * lista[40]) + 2.5)\n",
    "        lista[41] = round(-9.41764 + (1.01086 * lista[41]))\n",
    "        lista[42] = round(2.644171 + (1.015637 * lista[42]) + 5)\n",
    "        lista[43] = round(-9.84271 + (0.99006 * lista[43]))\n",
    "        lista[44] = round(11.390165 + (1.011174 * lista[44]) + 5)\n",
    "    elif group == 1:\n",
    "        lista[1] = round(1.141868 + (1.014977 * lista[1]))\n",
    "        lista[2] = round(11.609755 + (1.001257 * lista[2]) + 2.5)\n",
    "        lista[3] = round(11.599332 + (1.009687 * lista[3]))\n",
    "        lista[4] = round(-2.12917 + (1.01677 * lista[4]) - 5)\n",
    "        lista[9] = round(-12.324926 + (1.010969 * lista[9]))\n",
    "        lista[10] = round(3.346350 + (1.015339 * lista[10]) + 5)\n",
    "        lista[11] = round(-3.467802 + (1.001488 * lista[11]))\n",
    "        lista[12] = round(21.56854 + (1.00631 * lista[12]) + 10)\n",
    "        lista[13] = round(-5.012186 + (1.004991 * lista[13]))\n",
    "        lista[14] = round(51.19795 + (0.98165 * lista[14]) + 10)\n",
    "        lista[19] = round(-6.537249 + (1.002163 * lista[19]))\n",
    "        lista[20] = round(17.194060 + (1.006092 * lista[20]) + 5)\n",
    "        lista[21] = round(-8.3329 + (1.0054 * lista[21]))\n",
    "        lista[22] = round(36.9830 + (0.9944 * lista[22]) + 10)\n",
    "        lista[23] = round(-3.24230 + (1.00072 * lista[23]))\n",
    "        lista[24] = round(16.55739 + (1.00748 * lista[24]) + 10)\n",
    "        lista[29] = round(-4.93771 + (0.99999 * lista[29]))\n",
    "        lista[30] = round(3.87031 + (1.01495 * lista[30]) + 5)\n",
    "        lista[31] = round(-8.34573 + (1.01032 * lista[31]))\n",
    "        lista[32] = round(18.34660 + (1.00646 * lista[32]) + 5)\n",
    "        lista[33] = round(4.37963 + (0.98682 * lista[33]))\n",
    "        lista[34] = round(34.87327 + (0.97952 * lista[34]) + 5)\n",
    "        lista[39] = round(-10.288290 + (1.014644 * lista[39]))\n",
    "        lista[40] = round(16.48810 + (0.99530 * lista[40]) + 2.5)\n",
    "        lista[41] = round(-13.821444 + (1.011924 * lista[41]))\n",
    "        lista[42] = round(7.589769 + (1.008075 * lista[42]) + 2.5)\n",
    "        lista[43] = round(-18.324325 + (1.008953 * lista[43]))\n",
    "        lista[44] = round(23.436837 + (0.996013 * lista[44]) + 11.5)\n",
    "    elif group == 2:\n",
    "        lista[1] = round(2.555904 + (1.013751 * lista[1]))\n",
    "        lista[2] = round(-6.313447 + (1.021876 * lista[2]) - 2.5)\n",
    "        lista[3] = round(21.20420 + (1.00435 * lista[3]))\n",
    "        lista[4] = round(0.21609 + (1.02271 * lista[4]) + 5)\n",
    "        lista[9] = round(-16.746214 + (1.014527 * lista[9]))\n",
    "        lista[10] = round(16.101382 + (1.007505 * lista[10]) + 5)\n",
    "        lista[11] = round(-29.544946 + (1.029308 * lista[11]))\n",
    "        lista[12] = round(37.23605 + (0.99969 * lista[12]) + 2.5)\n",
    "        lista[13] = round(-30.990490 + (1.035389 * lista[13]))\n",
    "        lista[14] = round(24.242884 + (1.010722 * lista[14]) + 2.5)\n",
    "        lista[19] = round(-33.50730 + (1.03218 * lista[19]))\n",
    "        lista[20] = round(23.368763 + (1.009098 * lista[20]) + 5)\n",
    "        lista[21] = round(-16.79147 + (1.01343 * lista[21]))\n",
    "        lista[22] = round(35.21449 + (1.00690 * lista[22]) + 5)\n",
    "        lista[23] = round(-4.403665 + (1.000960 * lista[23]))\n",
    "        lista[24] = round(44.63241 + (0.99427 * lista[24]) + 10)\n",
    "        lista[29] = round(-13.2599 + (1.0155 * lista[29]))\n",
    "        lista[30] = round(4.096145 + (1.018218 * lista[30]) + 7.5)\n",
    "        lista[31] = round(-8.23720 + (1.00469 * lista[31]))\n",
    "        lista[32] = round(-0.479272 + (1.023300 * lista[32]) - 5)\n",
    "        lista[33] = round(7.54141 + (0.98085 * lista[33]))\n",
    "        lista[34] = round(26.07954 + (0.99318 * lista[34]) + 5)\n",
    "        lista[39] = round(-11.509642 + (1.003331 * lista[39]))\n",
    "        lista[40] = round(5.446614 + (1.009385 * lista[40]) + 5)\n",
    "        lista[41] = round(-8.973508 + (0.993257 * lista[41]))\n",
    "        lista[42] = round(11.400947 + (1.008980 * lista[42]) + 7.5)\n",
    "        lista[43] = round(-16.00805 + (0.99553 * lista[43]))\n",
    "        lista[44] = round(23.519321 + (1.001766 * lista[44]) + 7.5)\n",
    "    else:\n",
    "        lista[1] = round(17.429752 + (1.003707 * lista[1]))\n",
    "        lista[2] = round(0.882041 + (1.013096 * lista[2]) + 2.5)\n",
    "        lista[3] = round(25.7573 + (0.9986 * lista[3]))\n",
    "        lista[4] = round(25.684338 + (0.999939 * lista[4]) + 5)\n",
    "        lista[9] = round(-11.273166 + (1.003843 * lista[9]))\n",
    "        lista[10] = round(14.997216 + (1.007823 * lista[10]) + 5)\n",
    "        lista[11] = round(-1.924864 + (1.000091 * lista[11]))\n",
    "        lista[12] = round(23.620020 + (1.003821 * lista[12]) + 5)\n",
    "        lista[13] = round(-2.163268 + (1.003495 * lista[13]))\n",
    "        lista[14] = round(12.905160 + (1.004440 * lista[14]) + 5)\n",
    "        lista[19] = round(-1.53967 + (0.99731 * lista[19]))\n",
    "        lista[20] = round(29.742991 + (0.999150 * lista[20]) + 10)\n",
    "        lista[21] = round(-0.138459 + (0.998830 * lista[21]))\n",
    "        lista[22] = round(13.498307 + (1.005544 * lista[22]) + 10)\n",
    "        lista[23] = round(2.249794 + (0.992409 * lista[23]))\n",
    "        lista[24] = round(-3.98567 + (1.01105 * lista[24]) - 10)\n",
    "        lista[29] = round(-4.058299 + (0.998010 * lista[29]))\n",
    "        lista[30] = round(21.050639 + (1.000977 * lista[30]) + 10)\n",
    "        lista[31] = round(-8.055530 + (1.006464 * lista[31]))\n",
    "        lista[32] = round(15.080651 + (1.003490 * lista[32]) + 10)\n",
    "        lista[33] = round(-9.100602 + (1.003799 * lista[33]))\n",
    "        lista[34] = round(-10.229015 + (1.011111 * lista[34]) - 10)\n",
    "        lista[39] = round(1.290823 + (0.983048 * lista[39]))\n",
    "        lista[40] = round(-4.439931 + (1.011739 * lista[40]) - 10)\n",
    "        lista[41] = round(1.54911 + (0.98240 * lista[41]))\n",
    "        lista[42] = round(-8.80657 + (1.01357 * lista[42]) - 10)\n",
    "        lista[43] = round(-3.207830 + (1.003308 * lista[43]))\n",
    "        lista[44] = round(-10.197507 + (1.017120 * lista[44]) - 10)\n",
    "    return lista"
   ]
  },
  {
   "cell_type": "markdown",
   "id": "a090fbc7-49e8-4079-bab8-36f9f5f6b4bd",
   "metadata": {
    "tags": []
   },
   "source": [
    "## Ajustar puntos de Mediapipe"
   ]
  },
  {
   "cell_type": "code",
   "execution_count": 15,
   "id": "a72acce6-5a92-4f21-a06e-538e340d5e7a",
   "metadata": {
    "tags": []
   },
   "outputs": [],
   "source": [
    "def fit_mediapipe(hand_landmarks, lista, width, height):\n",
    "    hand_landmarks.landmark[4].x = lista[1]/width\n",
    "    hand_landmarks.landmark[4].y = 1 - lista[2]/height\n",
    "    hand_landmarks.landmark[3].x = lista[3]/width\n",
    "    hand_landmarks.landmark[3].y = 1 - lista[4]/height\n",
    "    hand_landmarks.landmark[8].x = lista[9]/width\n",
    "    hand_landmarks.landmark[8].y = 1 - lista[10]/height\n",
    "    hand_landmarks.landmark[7].x = lista[11]/width\n",
    "    hand_landmarks.landmark[7].y = 1 - lista[12]/height\n",
    "    hand_landmarks.landmark[6].x = lista[13]/width\n",
    "    hand_landmarks.landmark[6].y = 1 - lista[14]/height\n",
    "    hand_landmarks.landmark[12].x = lista[19]/width\n",
    "    hand_landmarks.landmark[12].y = 1 - lista[20]/height\n",
    "    hand_landmarks.landmark[11].x = lista[21]/width\n",
    "    hand_landmarks.landmark[11].y = 1 - lista[22]/height\n",
    "    hand_landmarks.landmark[10].x = lista[23]/width\n",
    "    hand_landmarks.landmark[10].y = 1 - lista[24]/height\n",
    "    hand_landmarks.landmark[16].x = lista[29]/width\n",
    "    hand_landmarks.landmark[16].y = 1 - lista[30]/height\n",
    "    hand_landmarks.landmark[15].x = lista[31]/width\n",
    "    hand_landmarks.landmark[15].y = 1 - lista[32]/height\n",
    "    hand_landmarks.landmark[14].x = lista[33]/width\n",
    "    hand_landmarks.landmark[14].y = 1 - lista[34]/height\n",
    "    hand_landmarks.landmark[20].x = lista[39]/width\n",
    "    hand_landmarks.landmark[20].y = 1 - lista[40]/height\n",
    "    hand_landmarks.landmark[19].x = lista[41]/width\n",
    "    hand_landmarks.landmark[19].y = 1 - lista[42]/height\n",
    "    hand_landmarks.landmark[18].x = lista[43]/width\n",
    "    hand_landmarks.landmark[18].y = 1 - lista[44]/height\n",
    "    \n",
    "    return hand_landmarks"
   ]
  },
  {
   "cell_type": "markdown",
   "id": "7a9d92e3-649f-4c2d-a470-0e5c9817251a",
   "metadata": {},
   "source": [
    "## Guardar TPS"
   ]
  },
  {
   "cell_type": "code",
   "execution_count": 16,
   "id": "5b09a055-dbf4-43ba-b8d2-d173df646454",
   "metadata": {
    "tags": []
   },
   "outputs": [],
   "source": [
    "def save_tps(array, file_name):\n",
    "    points = TPSPoints(array)\n",
    "    image = TPSImage(file_name[0]+file_name[1],landmarks=points)\n",
    "    tps_file = TPSFile([image])\n",
    "    tps_file.write_to_file('TPS/' + file_name[0] + '.TPS')"
   ]
  },
  {
   "cell_type": "markdown",
   "id": "4f75aa51-d55d-49d3-b37a-ddf81bf7eae0",
   "metadata": {},
   "source": [
    "## Guardar CSV"
   ]
  },
  {
   "cell_type": "code",
   "execution_count": 17,
   "id": "dc340230-64f1-444b-b1d5-1d8cc05c1c8b",
   "metadata": {
    "tags": []
   },
   "outputs": [],
   "source": [
    "def save_csv(lista):\n",
    "    file = \"Puntos.csv\"\n",
    "\n",
    "    if os.path.isfile(file) is False:\n",
    "        with open(\"Puntos.csv\", \"w\", newline=\"\") as csvfile:\n",
    "            writer = csv.writer(csvfile)\n",
    "            writer.writerow(\n",
    "                [\n",
    "                    \"ID\",\n",
    "                    \"X1\",\n",
    "                    \"Y1\",\n",
    "                    \"X2\",\n",
    "                    \"Y2\",\n",
    "                    \"X3\",\n",
    "                    \"Y3\",\n",
    "                    \"X4\",\n",
    "                    \"Y4\",\n",
    "                    \"X5\",\n",
    "                    \"Y5\",\n",
    "                    \"X6\",\n",
    "                    \"Y6\",\n",
    "                    \"X7\",\n",
    "                    \"Y7\",\n",
    "                    \"X8\",\n",
    "                    \"Y8\",\n",
    "                    \"X9\",\n",
    "                    \"Y9\",\n",
    "                    \"X10\",\n",
    "                    \"Y10\",\n",
    "                    \"X11\",\n",
    "                    \"Y11\",\n",
    "                    \"X12\",\n",
    "                    \"Y12\",\n",
    "                    \"X13\",\n",
    "                    \"Y13\",\n",
    "                    \"X14\",\n",
    "                    \"Y14\",\n",
    "                    \"X15\",\n",
    "                    \"Y15\",\n",
    "                    \"X16\",\n",
    "                    \"Y16\",\n",
    "                    \"X17\",\n",
    "                    \"Y17\",\n",
    "                    \"X18\",\n",
    "                    \"Y18\",\n",
    "                    \"X19\",\n",
    "                    \"Y19\",\n",
    "                    \"X20\",\n",
    "                    \"Y20\",\n",
    "                    \"X21\",\n",
    "                    \"Y21\",\n",
    "                    \"X22\",\n",
    "                    \"Y22\",\n",
    "                    \"X23\",\n",
    "                    \"Y23\",\n",
    "                    \"X24\",\n",
    "                    \"Y24\",\n",
    "                    \"X25\",\n",
    "                    \"Y25\",\n",
    "                    \"X26\",\n",
    "                    \"Y26\",\n",
    "                    \"X27\",\n",
    "                    \"Y27\",\n",
    "                    \"X28\",\n",
    "                    \"Y28\",\n",
    "                ]\n",
    "            )\n",
    "            csvfile.close()\n",
    "\n",
    "    with open(\"Puntos.csv\", \"a\", newline=\"\") as csvfile:\n",
    "        writer = csv.writer(csvfile)\n",
    "        writer.writerow(lista)\n",
    "        csvfile.close()"
   ]
  },
  {
   "cell_type": "markdown",
   "id": "adff008d-216b-4a20-9992-99a6b29a46bc",
   "metadata": {},
   "source": [
    "## Ordenar CSV"
   ]
  },
  {
   "cell_type": "code",
   "execution_count": 18,
   "id": "15b8237d-5bbb-4476-95e6-45f3bac00855",
   "metadata": {
    "tags": []
   },
   "outputs": [],
   "source": [
    "def sort_csv(file):\n",
    "    df = pd.read_csv(file)\n",
    "    df = df.sort_values('ID')\n",
    "    df.to_csv(file, index=False)"
   ]
  },
  {
   "cell_type": "code",
   "execution_count": 19,
   "id": "d3ff1419-1cfe-4859-b5a5-1ad6a57469dd",
   "metadata": {
    "tags": []
   },
   "outputs": [],
   "source": [
    "def fit_drawing(lista, height):\n",
    "    lista[2] = int(height * (1 - lista[2]/height))\n",
    "    lista[4] = int(height * (1 - lista[4]/height))\n",
    "    lista[10] = int(height * (1 - lista[10]/height))\n",
    "    lista[12] = int(height * (1 - lista[12]/height))\n",
    "    lista[14] = int(height * (1 - lista[14]/height))\n",
    "    lista[20] = int(height * (1 - lista[20]/height))\n",
    "    lista[22] = int(height * (1 - lista[22]/height))\n",
    "    lista[24] = int(height * (1 - lista[24]/height))\n",
    "    lista[30] = int(height * (1 - lista[30]/height))\n",
    "    lista[32] = int(height * (1 - lista[32]/height))\n",
    "    lista[34] = int(height * (1 - lista[34]/height))\n",
    "    lista[40] = int(height * (1 - lista[40]/height))\n",
    "    lista[42] = int(height * (1 - lista[42]/height))\n",
    "    lista[44] = int(height * (1 - lista[44]/height))\n",
    "\n",
    "    return lista"
   ]
  },
  {
   "cell_type": "code",
   "execution_count": 20,
   "id": "81580cd0-ac83-4fb4-a89d-fdf37d071883",
   "metadata": {
    "tags": []
   },
   "outputs": [],
   "source": [
    "def draw_sarai_landmarks(file_path):\n",
    "    file_name = os.path.basename(file_path)\n",
    "    file_name = os.path.splitext(file_name)\n",
    "    original = cv2.imread(\"Original/\" + file_name[0] + file_name[1])\n",
    "    sarai = pd.read_csv(\"GroundTruth.csv\")\n",
    "    lista_sarai = sarai.loc[sarai['ID'] == int(file_name[0])].values.flatten().tolist()\n",
    "    width, height = get_dimensions(file_path)\n",
    "    hand_landmarks_sarai = fit_drawing(lista_sarai, height)\n",
    "    \n",
    "    index = [1, 2, 3, 4, 9, 10, 11, 12, 13, 14, 19, 20, 21, 22, 23, 24, 29, \n",
    "        30, 31, 32, 33, 34, 39, 40, 41, 42, 43, 44]\n",
    "    \n",
    "    x = 0\n",
    "    while x < len(index):\n",
    "        y = x + 1\n",
    "        center_coordinates = (hand_landmarks_sarai[index[x]], hand_landmarks_sarai[index[y]])\n",
    "        radius = 5\n",
    "        color = (0, 255, 0) # BGR\n",
    "        thickness = -1\n",
    "        original = cv2.circle(original, center_coordinates, radius, color, thickness)\n",
    "        \n",
    "        x = x + 2\n",
    "    \n",
    "    cv2.imwrite(\"GroundTruth/\" + file_name[0] + file_name[1], original)"
   ]
  },
  {
   "cell_type": "code",
   "execution_count": 25,
   "id": "7d902f67-ab32-488b-9f10-2eca1fcd0c9b",
   "metadata": {
    "tags": []
   },
   "outputs": [],
   "source": [
    "def draw_landmarks(file_path, lista,g):\n",
    "    file_name = os.path.basename(file_path)\n",
    "    file_name = os.path.splitext(file_name)\n",
    "    original = cv2.imread(\"GroundTruth/\" + file_name[0] + file_name[1])\n",
    "    width, height = get_dimensions(file_path)\n",
    "    lista = fit_drawing(lista, height)\n",
    "    \n",
    "    index = [1, 2, 3, 4, 9, 10, 11, 12, 13, 14, 19, 20, 21, 22, 23, 24, 29, \n",
    "        30, 31, 32, 33, 34, 39, 40, 41, 42, 43, 44]\n",
    "    \n",
    "    x = 0\n",
    "    while x < len(index):\n",
    "        y = x + 1\n",
    "        center_coordinates = (lista[index[x]], lista[index[y]])\n",
    "        radius = 5\n",
    "        color = (0, 0, 255) # BGR\n",
    "        thickness = -1\n",
    "        original = cv2.circle(original, \n",
    "                              center_coordinates, \n",
    "                              radius, \n",
    "                              color, \n",
    "                              thickness)\n",
    "        \n",
    "        x = x + 2\n",
    "    #if g == 0:\n",
    "        #cv2.imwrite(\"FinalOutput/G0/\" + file_name[0] + \"F\" + file_name[1], original)\n",
    "    #elif g == 1:\n",
    "        #cv2.imwrite(\"FinalOutput/G1/\" + file_name[0] + \"F\" + file_name[1], original)\n",
    "    #elif g == 2:\n",
    "        #cv2.imwrite(\"FinalOutput/G2/\" + file_name[0] + \"F\" + file_name[1], original)\n",
    "    #else:\n",
    "        #cv2.imwrite(\"FinalOutput/G3/\" + file_name[0] + \"F\" + file_name[1], original)\n",
    "    cv2.imwrite(\"FinalOutput/\" + file_name[0] + \"F\" + file_name[1], original)"
   ]
  },
  {
   "cell_type": "markdown",
   "id": "dabf9cfc-5bf8-47d7-b961-716c30dd453f",
   "metadata": {},
   "source": [
    "## Localizar puntos"
   ]
  },
  {
   "cell_type": "code",
   "execution_count": 79,
   "id": "3b83d6f1-01bb-4189-9139-1e7b8b7c344c",
   "metadata": {
    "tags": []
   },
   "outputs": [],
   "source": [
    "def landmarks_detector(file_path):\n",
    "    mp_drawing = mp.solutions.drawing_utils\n",
    "    mp_hands = mp.solutions.hands\n",
    "    mp_drawing_styles = mp.solutions.drawing_styles\n",
    "    \n",
    "    file_name = os.path.basename(file_path)\n",
    "    file_name = os.path.splitext(file_name)\n",
    "    lista = [file_name[0]]\n",
    "    draw_sarai_landmarks(file_path)\n",
    "    \n",
    "    intentos = 1\n",
    "    bandera = True\n",
    "\n",
    "    while bandera:\n",
    "        if intentos < 50:\n",
    "            pre_processing(file_path)\n",
    "        else:\n",
    "            pre_random_processing(file_path)\n",
    "        #manual_pre_processing(file_path,1,4)\n",
    "\n",
    "        image = cv2.imread(\"ColorOutput/\" + file_name[0] + \"C\" + file_name[1])\n",
    "\n",
    "        umbral = 0.9\n",
    "        alerta = False\n",
    "        while True:\n",
    "            with mp_hands.Hands(\n",
    "                static_image_mode=True, max_num_hands=2, min_detection_confidence=umbral\n",
    "            ) as hands:\n",
    "                height, width, _ = image.shape\n",
    "                image_rgb = cv2.cvtColor(image, cv2.COLOR_BGR2RGB)\n",
    "                results = hands.process(image_rgb)\n",
    "                if results.multi_hand_landmarks is not None:\n",
    "                    index = [\n",
    "                        4,\n",
    "                        3,\n",
    "                        2,\n",
    "                        1,\n",
    "                        8,\n",
    "                        7,\n",
    "                        6,\n",
    "                        5,\n",
    "                        12,\n",
    "                        11,\n",
    "                        10,\n",
    "                        9,\n",
    "                        16,\n",
    "                        15,\n",
    "                        14,\n",
    "                        13,\n",
    "                        20,\n",
    "                        19,\n",
    "                        18,\n",
    "                        17,\n",
    "                    ]\n",
    "                    for hand_landmarks in results.multi_hand_landmarks:\n",
    "                        for i in index:\n",
    "                            x = round(hand_landmarks.landmark[i].x * width)\n",
    "                            y = height - round(hand_landmarks.landmark[i].y * height)\n",
    "                            lista.append(x)\n",
    "                            lista.append(y)\n",
    "                            if i == 5 or i == 9 or i == 13:\n",
    "                                lista.append(0)\n",
    "                                lista.append(0)\n",
    "                            if i == 6:\n",
    "                                mediana = height - round(hand_landmarks.landmark[4].y * height)\n",
    "                                if y < mediana:\n",
    "                                    alerta = True\n",
    "\n",
    "                    for x in range(5):\n",
    "                        lista.append(0)\n",
    "                        lista.append(0)\n",
    "\n",
    "            if alerta == True:\n",
    "                print(file_name[0])\n",
    "                results.multi_handedness = None\n",
    "                lista = [file_name[0]]\n",
    "            if results.multi_handedness is None:\n",
    "                umbral = umbral - 0.1\n",
    "            if umbral < 0.3:\n",
    "                intentos = intentos + 1\n",
    "                if intentos == 70:\n",
    "                    #print(\"Imagen: \" + file_name[0] + \" None\")\n",
    "                    for k in range(56):\n",
    "                        lista.append(0)\n",
    "                    save_csv(lista)\n",
    "                    bandera = False\n",
    "                break\n",
    "            if results.multi_handedness != None:\n",
    "                # print(\n",
    "                #     \"Imagen: \" + file_name[0] + \"Done. Intentos:\",\n",
    "                #     intentos,\n",
    "                #     \"Umbral:\",\n",
    "                #     umbral,\n",
    "                # )\n",
    "                g = get_group(file_path)\n",
    "                adjusted_list = fit_landmarks(lista, g)\n",
    "                #adjusted_list = lista\n",
    "                height, width, _ = image.shape\n",
    "                save_csv(adjusted_list)\n",
    "                save_tps(np.array(adjusted_list[1:]).reshape(28,2), file_name)\n",
    "                draw_landmarks(file_path, adjusted_list,g)\n",
    "                #mp_drawing.draw_landmarks(original, hand_landmarks) # mp_hands.HAND_CONNECTIONS\n",
    "                #cv2.imwrite(\"FinalOutput/\" + file_name[0] + \"F\" + file_name[1], original)\n",
    "\n",
    "                bandera = False\n",
    "                break"
   ]
  },
  {
   "cell_type": "markdown",
   "id": "7770580d-7463-4e0e-a991-6af9b0cca3f7",
   "metadata": {},
   "source": [
    "# Prueba seleccionando una carpeta"
   ]
  },
  {
   "cell_type": "code",
   "execution_count": 80,
   "id": "4fd26723-ac44-4881-875e-09ff0362f7ca",
   "metadata": {
    "tags": []
   },
   "outputs": [
    {
     "name": "stderr",
     "output_type": "stream",
     "text": [
      "Progreso:  42%|████▏     | 67/161 [02:28<03:02,  1.94s/it]"
     ]
    },
    {
     "name": "stdout",
     "output_type": "stream",
     "text": [
      "15226\n",
      "15226\n",
      "15226\n",
      "15226\n",
      "15226\n",
      "15226\n",
      "15226\n"
     ]
    },
    {
     "name": "stderr",
     "output_type": "stream",
     "text": [
      "Progreso:  73%|███████▎  | 117/161 [08:45<01:34,  2.16s/it]"
     ]
    },
    {
     "name": "stdout",
     "output_type": "stream",
     "text": [
      "5672\n",
      "5672\n",
      "5672\n",
      "5672\n",
      "5672\n",
      "5672\n"
     ]
    },
    {
     "name": "stderr",
     "output_type": "stream",
     "text": [
      "Progreso: 100%|██████████| 161/161 [10:12<00:00,  3.81s/it]\n"
     ]
    }
   ],
   "source": [
    "#check_folders()\n",
    "path = select_folder()\n",
    "browse_files(path)\n",
    "sort_csv('Puntos.csv')"
   ]
  },
  {
   "cell_type": "markdown",
   "id": "c492e232-0a70-4b8a-b36e-77ae66acc4cb",
   "metadata": {
    "tags": []
   },
   "source": [
    "# Prueba seleccionando una imagen"
   ]
  },
  {
   "cell_type": "code",
   "execution_count": 76,
   "id": "68e5b709-e4d4-4775-8584-1bcc49027aee",
   "metadata": {
    "tags": []
   },
   "outputs": [],
   "source": [
    "#check_folders()\n",
    "image_path = select_image()\n",
    "landmarks_detector(image_path)\n",
    "# sort_csv('Puntos.csv')"
   ]
  },
  {
   "cell_type": "code",
   "execution_count": null,
   "id": "6470381f-db22-480d-ba04-9434579dc8ad",
   "metadata": {},
   "outputs": [],
   "source": []
  }
 ],
 "metadata": {
  "kernelspec": {
   "display_name": "Python 3 (ipykernel)",
   "language": "python",
   "name": "python3"
  },
  "language_info": {
   "codemirror_mode": {
    "name": "ipython",
    "version": 3
   },
   "file_extension": ".py",
   "mimetype": "text/x-python",
   "name": "python",
   "nbconvert_exporter": "python",
   "pygments_lexer": "ipython3",
   "version": "3.11.4"
  },
  "vscode": {
   "interpreter": {
    "hash": "609973a2d1f31d45d1c4d9f5c0b4ecf9cb33fe1a555b03392724c0cdbb5c54ba"
   }
  }
 },
 "nbformat": 4,
 "nbformat_minor": 5
}
